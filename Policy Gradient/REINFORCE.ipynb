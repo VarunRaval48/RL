{
 "cells": [
  {
   "cell_type": "code",
   "execution_count": 1,
   "metadata": {},
   "outputs": [],
   "source": [
    "import tensorflow as tf\n",
    "import gym\n",
    "import numpy as np\n",
    "import matplotlib.pyplot as plt\n",
    "from IPython import display\n",
    "from time import time\n",
    "%matplotlib inline"
   ]
  },
  {
   "cell_type": "code",
   "execution_count": 2,
   "metadata": {},
   "outputs": [],
   "source": [
    "alpha = 0.02\n",
    "discount = 0.95\n",
    "episodes = 5000\n",
    "report = 100\n",
    "\n",
    "tf.reset_default_graph()\n",
    "sess = tf.Session()\n",
    "\n",
    "S_t = tf.placeholder(tf.float32, [None, 8])\n",
    "expected_t = tf.placeholder(tf.float32, [None, ])\n",
    "A_t = tf.placeholder(tf.int32, [None, ])\n",
    "\n",
    "opt = tf.train.AdamOptimizer(alpha)\n",
    "\n",
    "logits = tf.layers.dense(S_t, 10, activation=tf.nn.relu)\n",
    "logits = tf.layers.dense(logits, 10, activation=tf.nn.relu)\n",
    "logits = tf.layers.dense(logits, 4)\n",
    "\n",
    "action_prob = tf.nn.softmax(logits)\n",
    "\n",
    "loss = tf.nn.sparse_softmax_cross_entropy_with_logits(labels=A_t, logits=logits) # This is basically log prob.\n",
    "loss = tf.reduce_mean(tf.multiply(loss, expected_t))\n",
    "update_op = opt.minimize(loss) # Maximize expected rewards"
   ]
  },
  {
   "cell_type": "code",
   "execution_count": 3,
   "metadata": {},
   "outputs": [],
   "source": [
    "def get_action(state):\n",
    "    probs = sess.run(action_prob, feed_dict = {S_t: state})\n",
    "    action = np.random.choice(range(len(probs.ravel())), p=probs.ravel())\n",
    "    return action\n",
    "    "
   ]
  },
  {
   "cell_type": "code",
   "execution_count": null,
   "metadata": {},
   "outputs": [
    {
     "name": "stdout",
     "output_type": "stream",
     "text": [
      "\u001b[33mWARN: gym.spaces.Box autodetected dtype as <class 'numpy.float32'>. Please provide explicit dtype.\u001b[0m\n",
      "Episode 0, max reward: -292.0062446062984\n",
      "Episode 100, max reward: -34.071588424313234\n",
      "\tLast 100 mean: -187.1744979821303\n",
      "Episode 200, max reward: 8.631536974739785\n",
      "\tLast 100 mean: -164.03956685931087\n"
     ]
    }
   ],
   "source": [
    "env = gym.make('LunarLander-v2')\n",
    "episode_rewards = []\n",
    "losses = []\n",
    "sess.run(tf.global_variables_initializer())\n",
    "\n",
    "for e in range(episodes):\n",
    "    states, actions, rewards = [], [], []\n",
    "    state = env.reset()\n",
    "    done = False\n",
    "\n",
    "    # Get episode states, actions and rewards\n",
    "    while not done:\n",
    "        states.append(state)\n",
    "        state = state.reshape(1, -1)\n",
    "        action = get_action(state)\n",
    "        state, reward, done, _ = env.step(action)\n",
    "        actions.append(action)\n",
    "        rewards.append(reward)\n",
    "        if np.sum(rewards) < -250:\n",
    "            done = True\n",
    "        \n",
    "    episode_rewards.append(np.sum(rewards))\n",
    "    actions = np.array(actions)\n",
    "    states = np.array(states)\n",
    "    \n",
    "    # Get expected discounted returns for each state\n",
    "    expected_rewards = np.zeros_like(rewards)\n",
    "    expected = 0\n",
    "    for t in reversed(range(len(rewards))):\n",
    "        expected = discount*expected + rewards[t]\n",
    "        expected_rewards[t] = expected\n",
    "        \n",
    "    expected_rewards = np.array(expected_rewards)\n",
    "    # print(expected_rewards)\n",
    "    # Normalize expected discounted returns\n",
    "    expected_rewards = (expected_rewards - np.mean(expected_rewards)) / np.std(expected_rewards)\n",
    "    \n",
    "    l, _ = sess.run([loss, update_op], feed_dict={S_t:states, \n",
    "                                                  expected_t:expected_rewards, \n",
    "                                                  A_t: actions})\n",
    "    losses.append(l)\n",
    "    \n",
    "    \n",
    "    if e % report == 0:\n",
    "        print(\"Episode {}, max reward: {}\".format(e, max(episode_rewards)))\n",
    "        if e >= 100:\n",
    "            print(\"\\tLast 100 mean: {}\".format(np.mean(episode_rewards[e-100:e])))\n",
    "    if e >= 100:\n",
    "        if np.mean(episode_rewards[e-100:e]) >= 200:\n",
    "            print(\"Solved at {}\".format(e))\n",
    "            break"
   ]
  },
  {
   "cell_type": "code",
   "execution_count": null,
   "metadata": {
    "scrolled": true
   },
   "outputs": [],
   "source": [
    "plt.plot(episode_rewards)\n",
    "print(max(episode_rewards))"
   ]
  },
  {
   "cell_type": "code",
   "execution_count": null,
   "metadata": {},
   "outputs": [],
   "source": [
    "plt.plot(losses)"
   ]
  },
  {
   "cell_type": "code",
   "execution_count": null,
   "metadata": {},
   "outputs": [],
   "source": [
    "def show_state(env, step=0):\n",
    "    plt.figure(3)\n",
    "    plt.clf()\n",
    "    plt.imshow(env.render(mode='rgb_array'))\n",
    "    plt.title(\"Step: %d\" % (step))\n",
    "    \n",
    "    #plt.pause(0.001)  # pause for plots to update\n",
    "    \n",
    "    display.clear_output(wait=True)\n",
    "    display.display(plt.gcf())\n",
    "        \n",
    "done = False\n",
    "state = env.reset()\n",
    "step = 0\n",
    "while not done:\n",
    "    step += 1\n",
    "    show_state(env, step)\n",
    "    action = np.argmax(sess.run(logits, feed_dict={S_t: state.reshape(1,-1)})[0])\n",
    "    state, _, done, _ = env.step(action)"
   ]
  },
  {
   "cell_type": "code",
   "execution_count": null,
   "metadata": {},
   "outputs": [],
   "source": []
  }
 ],
 "metadata": {
  "kernelspec": {
   "display_name": "Python 3",
   "language": "python",
   "name": "python3"
  },
  "language_info": {
   "codemirror_mode": {
    "name": "ipython",
    "version": 3
   },
   "file_extension": ".py",
   "mimetype": "text/x-python",
   "name": "python",
   "nbconvert_exporter": "python",
   "pygments_lexer": "ipython3",
   "version": "3.5.2"
  }
 },
 "nbformat": 4,
 "nbformat_minor": 2
}
