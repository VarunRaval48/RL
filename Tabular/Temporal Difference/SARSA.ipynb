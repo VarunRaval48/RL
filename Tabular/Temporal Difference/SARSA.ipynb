{
 "cells": [
  {
   "cell_type": "code",
   "execution_count": 1,
   "metadata": {},
   "outputs": [],
   "source": [
    "%matplotlib inline\n",
    "import matplotlib.pyplot as plt\n",
    "import numpy as np\n",
    "from gym.envs.toy_text.frozen_lake import FrozenLakeEnv"
   ]
  },
  {
   "cell_type": "code",
   "execution_count": 2,
   "metadata": {},
   "outputs": [],
   "source": [
    "def init(env):\n",
    "    \"\"\"\n",
    "    env: OpenAI Gym Environment\n",
    "    \"\"\"\n",
    "    Q = np.zeros((env.nS, env.nA))\n",
    "    return Q"
   ]
  },
  {
   "cell_type": "code",
   "execution_count": 11,
   "metadata": {},
   "outputs": [],
   "source": [
    "def policy(env, state, Q, epsilon):\n",
    "    if np.random.rand() < epsilon: # epsilon-greedy policy\n",
    "        return env.action_space.sample()\n",
    "    else:\n",
    "        return np.argmax(Q[state])"
   ]
  },
  {
   "cell_type": "code",
   "execution_count": 95,
   "metadata": {},
   "outputs": [],
   "source": [
    "episodes = 50000\n",
    "epsilon = 0.1\n",
    "alpha = 0.4\n",
    "discount = 0.99\n",
    "\n",
    "env = FrozenLakeEnv()\n",
    "Q = init(env)        "
   ]
  },
  {
   "cell_type": "code",
   "execution_count": 96,
   "metadata": {},
   "outputs": [],
   "source": [
    "# This is a model free algor so learn while moving\n",
    "episode_rewards = []\n",
    "for e in range(episodes):\n",
    "    state = env.reset()\n",
    "    rewards = []\n",
    "    while True:\n",
    "        action = policy(env, state, Q, epsilon)\n",
    "        q_now = Q[state][action] # Get current Q value\n",
    "        \n",
    "        next_state, reward, done, _ = env.step(action)\n",
    "        rewards.append(reward)\n",
    "        next_action = policy(env, next_state, Q, epsilon)\n",
    "        q_next = Q[next_state][next_action] # Get next Q value with same policy (On-policy)\n",
    "        \n",
    "        Q[state][action] += alpha * (reward + discount*q_next - q_now)\n",
    "        if done: # Q values of the terminal state is always 0.\n",
    "            break\n",
    "        state = next_state\n",
    "    episode_rewards.append(np.mean(rewards))"
   ]
  },
  {
   "cell_type": "code",
   "execution_count": 97,
   "metadata": {},
   "outputs": [
    {
     "name": "stdout",
     "output_type": "stream",
     "text": [
      "[[ 0.33771783  0.20752479  0.19614968  0.20266071]\n",
      " [ 0.22776287  0.15487489  0.11775552  0.14993182]\n",
      " [ 0.09054624  0.15357428  0.09100406  0.08456151]\n",
      " [ 0.09751361  0.04050892  0.05670351  0.11984451]\n",
      " [ 0.28214573  0.12198068  0.1236755   0.14925116]\n",
      " [ 0.          0.          0.          0.        ]\n",
      " [ 0.19126037  0.02399868  0.02737975  0.00285664]\n",
      " [ 0.          0.          0.          0.        ]\n",
      " [ 0.03045146  0.16852042  0.07824578  0.37353575]\n",
      " [ 0.15761232  0.54850198  0.18954106  0.30416649]\n",
      " [ 0.56928322  0.32672605  0.13851412  0.22952485]\n",
      " [ 0.          0.          0.          0.        ]\n",
      " [ 0.          0.          0.          0.        ]\n",
      " [ 0.22412591  0.18001525  0.61685325  0.48017129]\n",
      " [ 0.58861999  0.65439067  0.6356487   0.66757109]\n",
      " [ 0.          0.          0.          0.        ]]\n"
     ]
    },
    {
     "data": {
      "text/plain": [
       "[<matplotlib.lines.Line2D at 0x112182e48>]"
      ]
     },
     "execution_count": 97,
     "metadata": {},
     "output_type": "execute_result"
    },
    {
     "data": {
      "image/png": "[encoded data removed]",
      "text/plain": [
       "<matplotlib.figure.Figure at 0x111b0aac8>"
      ]
     },
     "metadata": {},
     "output_type": "display_data"
    }
   ],
   "source": [
    "print(Q)\n",
    "plt.plot(episode_rewards)"
   ]
  },
  {
   "cell_type": "code",
   "execution_count": 94,
   "metadata": {},
   "outputs": [
    {
     "name": "stdout",
     "output_type": "stream",
     "text": [
      "\n",
      "\u001b[41mS\u001b[0mFFF\n",
      "FHFH\n",
      "FFFH\n",
      "HFFG\n",
      "  (Right)\n",
      "SFFF\n",
      "\u001b[41mF\u001b[0mHFH\n",
      "FFFH\n",
      "HFFG\n",
      "  (Down)\n",
      "SFFF\n",
      "F\u001b[41mH\u001b[0mFH\n",
      "FFFH\n",
      "HFFG\n"
     ]
    }
   ],
   "source": [
    "done = False\n",
    "state = env.reset()\n",
    "while not done:\n",
    "    env.render()\n",
    "    action = policy(env, state, Q, 0.0)\n",
    "    state, _, done, _ = env.step(action)\n",
    "env.render()"
   ]
  },
  {
   "cell_type": "code",
   "execution_count": null,
   "metadata": {},
   "outputs": [],
   "source": []
  }
 ],
 "metadata": {
  "kernelspec": {
   "display_name": "Python 3",
   "language": "python",
   "name": "python3"
  },
  "language_info": {
   "codemirror_mode": {
    "name": "ipython",
    "version": 3
   },
   "file_extension": ".py",
   "mimetype": "text/x-python",
   "name": "python",
   "nbconvert_exporter": "python",
   "pygments_lexer": "ipython3",
   "version": "3.6.1"
  }
 },
 "nbformat": 4,
 "nbformat_minor": 2
}
