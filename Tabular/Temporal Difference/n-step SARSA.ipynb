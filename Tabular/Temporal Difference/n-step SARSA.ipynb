{
 "cells": [
  {
   "cell_type": "code",
   "execution_count": 1,
   "metadata": {},
   "outputs": [],
   "source": [
    "%matplotlib inline\n",
    "import matplotlib.pyplot as plt\n",
    "import numpy as np\n",
    "from gym.envs.toy_text.frozen_lake import FrozenLakeEnv"
   ]
  },
  {
   "cell_type": "code",
   "execution_count": 2,
   "metadata": {},
   "outputs": [],
   "source": [
    "def init(env):\n",
    "    \"\"\"\n",
    "    env: OpenAI Gym Environment\n",
    "    \"\"\"\n",
    "    Q = np.zeros((env.nS, env.nA))\n",
    "    return Q"
   ]
  },
  {
   "cell_type": "code",
   "execution_count": 3,
   "metadata": {},
   "outputs": [],
   "source": [
    "def policy(env, state, Q, epsilon):\n",
    "    if np.random.rand() < epsilon: # epsilon-greedy policy\n",
    "        return env.action_space.sample()\n",
    "    else:\n",
    "        return np.argmax(Q[state])"
   ]
  },
  {
   "cell_type": "code",
   "execution_count": 11,
   "metadata": {},
   "outputs": [],
   "source": [
    "episodes = 10000\n",
    "epsilon = 0.2\n",
    "alpha = 0.2\n",
    "discount = 0.9\n",
    "n = 4\n",
    "\n",
    "env = FrozenLakeEnv()\n",
    "Q = init(env)        "
   ]
  },
  {
   "cell_type": "code",
   "execution_count": 12,
   "metadata": {},
   "outputs": [],
   "source": [
    "# This is a model free algo so learn while moving\n",
    "episode_rewards = []\n",
    "for e in range(episodes):\n",
    "    s0 = env.reset()\n",
    "    a0 = policy(env, s0, Q, epsilon)\n",
    "    t = 0\n",
    "    T = float('inf') # A very large number\n",
    "    states = [s0]\n",
    "    actions = [a0]\n",
    "    rewards = []\n",
    "    \n",
    "    while True:\n",
    "        if t < T:\n",
    "            state, reward, done, _ = env.step(actions[t])\n",
    "            rewards.append(reward)\n",
    "            states.append(state)\n",
    "            if done:\n",
    "                T = t+1\n",
    "            else:\n",
    "                actions.append(policy(env, state, Q, epsilon))\n",
    "        r = t - n + 1\n",
    "        if r >= 0:\n",
    "            upper = min(r+n, T)\n",
    "            G = 0.\n",
    "            for i in range(r+1, upper):\n",
    "                G += discount**(i-r-1) * rewards[i]\n",
    "            if r+n < T: # Not terminal\n",
    "                G += discount**n * Q[states[r+n], actions[r+n]]\n",
    "            Q[states[r], actions[r]] += alpha*(G-Q[states[r], actions[r]])\n",
    "        if r == T-1:\n",
    "            break\n",
    "        t += 1\n",
    "    episode_rewards.append(sum(rewards))"
   ]
  },
  {
   "cell_type": "code",
   "execution_count": 13,
   "metadata": {},
   "outputs": [
    {
     "data": {
      "text/plain": [
       "[<matplotlib.lines.Line2D at 0x11357a860>]"
      ]
     },
     "execution_count": 13,
     "metadata": {},
     "output_type": "execute_result"
    },
    {
     "data": {
      "image/png": "[encoded data removed]",
      "text/plain": [
       "<matplotlib.figure.Figure at 0x1134b5a90>"
      ]
     },
     "metadata": {},
     "output_type": "display_data"
    }
   ],
   "source": [
    "plt.plot(episode_rewards)"
   ]
  },
  {
   "cell_type": "code",
   "execution_count": null,
   "metadata": {},
   "outputs": [],
   "source": []
  }
 ],
 "metadata": {
  "kernelspec": {
   "display_name": "Python 3",
   "language": "python",
   "name": "python3"
  },
  "language_info": {
   "codemirror_mode": {
    "name": "ipython",
    "version": 3
   },
   "file_extension": ".py",
   "mimetype": "text/x-python",
   "name": "python",
   "nbconvert_exporter": "python",
   "pygments_lexer": "ipython3",
   "version": "3.6.1"
  }
 },
 "nbformat": 4,
 "nbformat_minor": 2
}
